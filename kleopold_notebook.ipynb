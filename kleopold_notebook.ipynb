{
 "cells": [
  {
   "cell_type": "markdown",
   "id": "33043dfd-3f0e-4ca8-882a-823c73cf31d5",
   "metadata": {},
   "source": [
    "# Kellie Leopold: Exploratory Data Analysis (EDA) Project"
   ]
  },
  {
   "cell_type": "code",
   "execution_count": 2,
   "id": "dad93a46-25e7-4388-a5c1-594b301f5d43",
   "metadata": {},
   "outputs": [
    {
     "name": "stdout",
     "output_type": "stream",
     "text": [
      "Starting out with Jupyter.\n"
     ]
    }
   ],
   "source": [
    "# Python Code\n",
    "import pandas as pd\n",
    "print(\"Starting out with Jupyter.\")"
   ]
  }
 ],
 "metadata": {
  "kernelspec": {
   "display_name": "Python 3 (ipykernel)",
   "language": "python",
   "name": "python3"
  },
  "language_info": {
   "codemirror_mode": {
    "name": "ipython",
    "version": 3
   },
   "file_extension": ".py",
   "mimetype": "text/x-python",
   "name": "python",
   "nbconvert_exporter": "python",
   "pygments_lexer": "ipython3",
   "version": "3.13.1"
  }
 },
 "nbformat": 4,
 "nbformat_minor": 5
}
